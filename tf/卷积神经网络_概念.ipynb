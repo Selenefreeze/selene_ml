{
 "cells": [
  {
   "cell_type": "markdown",
   "metadata": {},
   "source": [
    "# 卷积神经网络"
   ]
  },
  {
   "cell_type": "markdown",
   "metadata": {},
   "source": [
    "卷积-池化-卷积-池化-全链接-全链接\n",
    "\n",
    "卷积-池化-卷积-池化-Flatten-Dense(relu)-Dense(softmax或sigmoid)"
   ]
  },
  {
   "cell_type": "markdown",
   "metadata": {},
   "source": [
    "**卷积层的作用**\n",
    "\n",
    "卷积：提取原图的某种特征\n",
    "\n",
    "对底层数据进行抽取\n",
    "\n",
    "卷积核是经过大量数据学习得到的，即反向传播和梯度下降算法\n",
    "\n",
    "因此核心要训练的就是卷积核"
   ]
  },
  {
   "cell_type": "markdown",
   "metadata": {},
   "source": [
    "**池化层作用**\n",
    "\n",
    "池化：压缩特征图像，\n",
    "\n",
    "池化作用：减少参数，避免过拟合，平移不变性，增强了泛化性\n"
   ]
  },
  {
   "cell_type": "markdown",
   "metadata": {},
   "source": [
    "**全链接层作用**\n",
    "\n",
    "汇总信息"
   ]
  },
  {
   "cell_type": "markdown",
   "metadata": {},
   "source": [
    "[手写数字交互式网页模型](http://scs.ryerson.ca/~aharley/vis/conv/)\n",
    "\n",
    "[卷积动图](http://github.com/vdumoulin/conv_arithmetic/)"
   ]
  },
  {
   "cell_type": "markdown",
   "metadata": {},
   "source": [
    "**卷积神经网络的特点**\n",
    "\n",
    "权值共享（卷积核移动时不变）-> 缩放不变性\n",
    "\n",
    "局部感受（感受野每次只聚焦图像的一部分，是局部链接模式）-> 变形不变性\n",
    "\n",
    "下采样（池化层）-> 平移不变性"
   ]
  },
  {
   "cell_type": "markdown",
   "metadata": {},
   "source": []
  }
 ],
 "metadata": {
  "kernelspec": {
   "display_name": "Python 3",
   "language": "python",
   "name": "python3"
  },
  "language_info": {
   "codemirror_mode": {
    "name": "ipython",
    "version": 3
   },
   "file_extension": ".py",
   "mimetype": "text/x-python",
   "name": "python",
   "nbconvert_exporter": "python",
   "pygments_lexer": "ipython3",
   "version": "3.7.5"
  }
 },
 "nbformat": 4,
 "nbformat_minor": 2
}
