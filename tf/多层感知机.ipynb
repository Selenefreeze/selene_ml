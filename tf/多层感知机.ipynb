{
 "cells": [
  {
   "cell_type": "code",
   "execution_count": 28,
   "metadata": {},
   "outputs": [],
   "source": [
    "import tensorflow as tf\n",
    "import pandas as pd\n",
    "import numpy as np\n",
    "import matplotlib.pyplot as plt"
   ]
  },
  {
   "cell_type": "code",
   "execution_count": 21,
   "metadata": {},
   "outputs": [],
   "source": [
    "data = pd.read_csv('./dataset/Advertising.csv')"
   ]
  },
  {
   "cell_type": "code",
   "execution_count": 22,
   "metadata": {},
   "outputs": [
    {
     "data": {
      "text/html": [
       "<div>\n",
       "<style scoped>\n",
       "    .dataframe tbody tr th:only-of-type {\n",
       "        vertical-align: middle;\n",
       "    }\n",
       "\n",
       "    .dataframe tbody tr th {\n",
       "        vertical-align: top;\n",
       "    }\n",
       "\n",
       "    .dataframe thead th {\n",
       "        text-align: right;\n",
       "    }\n",
       "</style>\n",
       "<table border=\"1\" class=\"dataframe\">\n",
       "  <thead>\n",
       "    <tr style=\"text-align: right;\">\n",
       "      <th></th>\n",
       "      <th>number</th>\n",
       "      <th>TV</th>\n",
       "      <th>radio</th>\n",
       "      <th>newspaper</th>\n",
       "      <th>sales</th>\n",
       "    </tr>\n",
       "  </thead>\n",
       "  <tbody>\n",
       "    <tr>\n",
       "      <th>0</th>\n",
       "      <td>1</td>\n",
       "      <td>230.1</td>\n",
       "      <td>37.8</td>\n",
       "      <td>69.2</td>\n",
       "      <td>22.1</td>\n",
       "    </tr>\n",
       "    <tr>\n",
       "      <th>1</th>\n",
       "      <td>2</td>\n",
       "      <td>44.5</td>\n",
       "      <td>39.3</td>\n",
       "      <td>45.1</td>\n",
       "      <td>10.4</td>\n",
       "    </tr>\n",
       "    <tr>\n",
       "      <th>2</th>\n",
       "      <td>3</td>\n",
       "      <td>17.2</td>\n",
       "      <td>45.9</td>\n",
       "      <td>69.3</td>\n",
       "      <td>9.3</td>\n",
       "    </tr>\n",
       "    <tr>\n",
       "      <th>3</th>\n",
       "      <td>4</td>\n",
       "      <td>151.5</td>\n",
       "      <td>41.3</td>\n",
       "      <td>58.5</td>\n",
       "      <td>18.5</td>\n",
       "    </tr>\n",
       "    <tr>\n",
       "      <th>4</th>\n",
       "      <td>5</td>\n",
       "      <td>180.8</td>\n",
       "      <td>10.8</td>\n",
       "      <td>58.4</td>\n",
       "      <td>12.9</td>\n",
       "    </tr>\n",
       "  </tbody>\n",
       "</table>\n",
       "</div>"
      ],
      "text/plain": [
       "   number     TV  radio  newspaper  sales\n",
       "0       1  230.1   37.8       69.2   22.1\n",
       "1       2   44.5   39.3       45.1   10.4\n",
       "2       3   17.2   45.9       69.3    9.3\n",
       "3       4  151.5   41.3       58.5   18.5\n",
       "4       5  180.8   10.8       58.4   12.9"
      ]
     },
     "execution_count": 22,
     "metadata": {},
     "output_type": "execute_result"
    }
   ],
   "source": [
    " data.head()"
   ]
  },
  {
   "cell_type": "code",
   "execution_count": 25,
   "metadata": {},
   "outputs": [
    {
     "data": {
      "text/plain": [
       "<matplotlib.collections.PathCollection at 0x113206dd0>"
      ]
     },
     "execution_count": 25,
     "metadata": {},
     "output_type": "execute_result"
    },
    {
     "data": {
      "image/png": "[encoded data removed]",
      "text/plain": [
       "<Figure size 432x288 with 1 Axes>"
      ]
     },
     "metadata": {
      "needs_background": "light"
     },
     "output_type": "display_data"
    }
   ],
   "source": [
    "plt.scatter(data.TV, data.sales)"
   ]
  },
  {
   "cell_type": "code",
   "execution_count": 26,
   "metadata": {},
   "outputs": [],
   "source": [
    "#切片选取数据左闭右开\n",
    "x = data.iloc[:,1:-1]\n",
    "y = data.iloc[:,-1]"
   ]
  },
  {
   "cell_type": "code",
   "execution_count": 30,
   "metadata": {},
   "outputs": [],
   "source": [
    "modle = tf.keras.Sequential([tf.keras.layers.Dense(10, input_shape=(3,), activation='relu'), #十个单元隐藏层，激活函数relu\n",
    "                             tf.keras.layers.Dense(1)\n",
    "                            ]\n",
    "                            )"
   ]
  },
  {
   "cell_type": "code",
   "execution_count": 32,
   "metadata": {},
   "outputs": [
    {
     "name": "stdout",
     "output_type": "stream",
     "text": [
      "Model: \"sequential\"\n",
      "_________________________________________________________________\n",
      "Layer (type)                 Output Shape              Param #   \n",
      "=================================================================\n",
      "dense (Dense)                (None, 10)                40        \n",
      "_________________________________________________________________\n",
      "dense_1 (Dense)              (None, 1)                 11        \n",
      "=================================================================\n",
      "Total params: 51\n",
      "Trainable params: 51\n",
      "Non-trainable params: 0\n",
      "_________________________________________________________________\n"
     ]
    }
   ],
   "source": [
    "modle.summary()"
   ]
  },
  {
   "cell_type": "code",
   "execution_count": 34,
   "metadata": {},
   "outputs": [],
   "source": [
    "modle.compile(optimizer='adam',\n",
    "             loss='mse'\n",
    "             )"
   ]
  },
  {
   "cell_type": "code",
   "execution_count": 36,
   "metadata": {},
   "outputs": [
    {
     "name": "stdout",
     "output_type": "stream",
     "text": [
      "Train on 200 samples\n",
      "Epoch 1/100\n",
      "200/200 [==============================] - 0s 954us/sample - loss: 7856.1470\n",
      "Epoch 2/100\n",
      "200/200 [==============================] - 0s 35us/sample - loss: 6590.4581\n",
      "Epoch 3/100\n",
      "200/200 [==============================] - 0s 31us/sample - loss: 5469.8602\n",
      "Epoch 4/100\n",
      "200/200 [==============================] - 0s 40us/sample - loss: 4457.6166\n",
      "Epoch 5/100\n",
      "200/200 [==============================] - 0s 33us/sample - loss: 3563.0883\n",
      "Epoch 6/100\n",
      "200/200 [==============================] - 0s 31us/sample - loss: 2766.7808\n",
      "Epoch 7/100\n",
      "200/200 [==============================] - 0s 33us/sample - loss: 2086.6559\n",
      "Epoch 8/100\n",
      "200/200 [==============================] - 0s 38us/sample - loss: 1541.0488\n",
      "Epoch 9/100\n",
      "200/200 [==============================] - 0s 33us/sample - loss: 1127.0418\n",
      "Epoch 10/100\n",
      "200/200 [==============================] - 0s 33us/sample - loss: 804.1346\n",
      "Epoch 11/100\n",
      "200/200 [==============================] - 0s 44us/sample - loss: 579.0988\n",
      "Epoch 12/100\n",
      "200/200 [==============================] - 0s 33us/sample - loss: 418.4534\n",
      "Epoch 13/100\n",
      "200/200 [==============================] - 0s 43us/sample - loss: 311.9665\n",
      "Epoch 14/100\n",
      "200/200 [==============================] - 0s 58us/sample - loss: 242.4563\n",
      "Epoch 15/100\n",
      "200/200 [==============================] - 0s 33us/sample - loss: 197.8368\n",
      "Epoch 16/100\n",
      "200/200 [==============================] - 0s 59us/sample - loss: 169.7897\n",
      "Epoch 17/100\n",
      "200/200 [==============================] - 0s 43us/sample - loss: 152.3296\n",
      "Epoch 18/100\n",
      "200/200 [==============================] - 0s 67us/sample - loss: 142.5458\n",
      "Epoch 19/100\n",
      "200/200 [==============================] - 0s 45us/sample - loss: 135.1991\n",
      "Epoch 20/100\n",
      "200/200 [==============================] - 0s 59us/sample - loss: 129.9246\n",
      "Epoch 21/100\n",
      "200/200 [==============================] - 0s 47us/sample - loss: 124.7233\n",
      "Epoch 22/100\n",
      "200/200 [==============================] - 0s 63us/sample - loss: 120.2059\n",
      "Epoch 23/100\n",
      "200/200 [==============================] - 0s 49us/sample - loss: 115.6993\n",
      "Epoch 24/100\n",
      "200/200 [==============================] - 0s 74us/sample - loss: 111.0869\n",
      "Epoch 25/100\n",
      "200/200 [==============================] - 0s 62us/sample - loss: 106.6563\n",
      "Epoch 26/100\n",
      "200/200 [==============================] - 0s 44us/sample - loss: 102.2691\n",
      "Epoch 27/100\n",
      "200/200 [==============================] - 0s 43us/sample - loss: 98.0657\n",
      "Epoch 28/100\n",
      "200/200 [==============================] - 0s 42us/sample - loss: 93.5155\n",
      "Epoch 29/100\n",
      "200/200 [==============================] - 0s 38us/sample - loss: 89.4916\n",
      "Epoch 30/100\n",
      "200/200 [==============================] - 0s 40us/sample - loss: 85.4169\n",
      "Epoch 31/100\n",
      "200/200 [==============================] - 0s 33us/sample - loss: 81.3808\n",
      "Epoch 32/100\n",
      "200/200 [==============================] - 0s 35us/sample - loss: 77.1395\n",
      "Epoch 33/100\n",
      "200/200 [==============================] - 0s 33us/sample - loss: 73.1409\n",
      "Epoch 34/100\n",
      "200/200 [==============================] - 0s 31us/sample - loss: 69.2475\n",
      "Epoch 35/100\n",
      "200/200 [==============================] - 0s 39us/sample - loss: 65.1372\n",
      "Epoch 36/100\n",
      "200/200 [==============================] - 0s 30us/sample - loss: 61.1287\n",
      "Epoch 37/100\n",
      "200/200 [==============================] - 0s 37us/sample - loss: 57.2518\n",
      "Epoch 38/100\n",
      "200/200 [==============================] - 0s 32us/sample - loss: 53.2697\n",
      "Epoch 39/100\n",
      "200/200 [==============================] - 0s 35us/sample - loss: 48.7907\n",
      "Epoch 40/100\n",
      "200/200 [==============================] - 0s 31us/sample - loss: 44.2893\n",
      "Epoch 41/100\n",
      "200/200 [==============================] - 0s 36us/sample - loss: 39.8329\n",
      "Epoch 42/100\n",
      "200/200 [==============================] - 0s 31us/sample - loss: 35.7348\n",
      "Epoch 43/100\n",
      "200/200 [==============================] - 0s 30us/sample - loss: 32.6581\n",
      "Epoch 44/100\n",
      "200/200 [==============================] - 0s 35us/sample - loss: 29.8981\n",
      "Epoch 45/100\n",
      "200/200 [==============================] - 0s 34us/sample - loss: 27.4477\n",
      "Epoch 46/100\n",
      "200/200 [==============================] - 0s 35us/sample - loss: 25.2184\n",
      "Epoch 47/100\n",
      "200/200 [==============================] - 0s 32us/sample - loss: 22.8569\n",
      "Epoch 48/100\n",
      "200/200 [==============================] - 0s 35us/sample - loss: 20.6883\n",
      "Epoch 49/100\n",
      "200/200 [==============================] - 0s 31us/sample - loss: 18.9146\n",
      "Epoch 50/100\n",
      "200/200 [==============================] - 0s 31us/sample - loss: 17.4002\n",
      "Epoch 51/100\n",
      "200/200 [==============================] - 0s 36us/sample - loss: 15.8439\n",
      "Epoch 52/100\n",
      "200/200 [==============================] - 0s 30us/sample - loss: 14.5215\n",
      "Epoch 53/100\n",
      "200/200 [==============================] - 0s 35us/sample - loss: 13.3915\n",
      "Epoch 54/100\n",
      "200/200 [==============================] - 0s 30us/sample - loss: 12.4813\n",
      "Epoch 55/100\n",
      "200/200 [==============================] - 0s 31us/sample - loss: 11.6085\n",
      "Epoch 56/100\n",
      "200/200 [==============================] - 0s 32us/sample - loss: 10.9716\n",
      "Epoch 57/100\n",
      "200/200 [==============================] - 0s 31us/sample - loss: 10.2861\n",
      "Epoch 58/100\n",
      "200/200 [==============================] - 0s 36us/sample - loss: 9.7870\n",
      "Epoch 59/100\n",
      "200/200 [==============================] - 0s 33us/sample - loss: 9.3385\n",
      "Epoch 60/100\n",
      "200/200 [==============================] - 0s 37us/sample - loss: 8.9190\n",
      "Epoch 61/100\n",
      "200/200 [==============================] - 0s 31us/sample - loss: 8.5532\n",
      "Epoch 62/100\n",
      "200/200 [==============================] - 0s 37us/sample - loss: 8.2102\n",
      "Epoch 63/100\n",
      "200/200 [==============================] - 0s 33us/sample - loss: 7.9110\n",
      "Epoch 64/100\n",
      "200/200 [==============================] - 0s 35us/sample - loss: 7.6475\n",
      "Epoch 65/100\n",
      "200/200 [==============================] - 0s 33us/sample - loss: 7.4012\n",
      "Epoch 66/100\n",
      "200/200 [==============================] - 0s 31us/sample - loss: 7.2118\n",
      "Epoch 67/100\n",
      "200/200 [==============================] - 0s 33us/sample - loss: 7.0184\n",
      "Epoch 68/100\n",
      "200/200 [==============================] - 0s 32us/sample - loss: 6.8419\n",
      "Epoch 69/100\n",
      "200/200 [==============================] - 0s 34us/sample - loss: 6.6766\n",
      "Epoch 70/100\n",
      "200/200 [==============================] - 0s 33us/sample - loss: 6.5380\n",
      "Epoch 71/100\n",
      "200/200 [==============================] - 0s 33us/sample - loss: 6.4169\n",
      "Epoch 72/100\n",
      "200/200 [==============================] - 0s 32us/sample - loss: 6.3054\n",
      "Epoch 73/100\n",
      "200/200 [==============================] - 0s 31us/sample - loss: 6.1955\n",
      "Epoch 74/100\n",
      "200/200 [==============================] - 0s 34us/sample - loss: 6.0991\n",
      "Epoch 75/100\n",
      "200/200 [==============================] - 0s 35us/sample - loss: 6.0194\n",
      "Epoch 76/100\n",
      "200/200 [==============================] - 0s 33us/sample - loss: 5.9359\n",
      "Epoch 77/100\n",
      "200/200 [==============================] - 0s 32us/sample - loss: 5.8517\n",
      "Epoch 78/100\n",
      "200/200 [==============================] - 0s 33us/sample - loss: 5.7947\n",
      "Epoch 79/100\n",
      "200/200 [==============================] - 0s 30us/sample - loss: 5.7051\n",
      "Epoch 80/100\n",
      "200/200 [==============================] - 0s 31us/sample - loss: 5.6762\n",
      "Epoch 81/100\n",
      "200/200 [==============================] - 0s 36us/sample - loss: 5.6297\n",
      "Epoch 82/100\n",
      "200/200 [==============================] - 0s 33us/sample - loss: 5.5523\n",
      "Epoch 83/100\n",
      "200/200 [==============================] - 0s 36us/sample - loss: 5.5047\n",
      "Epoch 84/100\n",
      "200/200 [==============================] - 0s 31us/sample - loss: 5.4610\n",
      "Epoch 85/100\n",
      "200/200 [==============================] - 0s 31us/sample - loss: 5.4235\n",
      "Epoch 86/100\n",
      "200/200 [==============================] - 0s 32us/sample - loss: 5.3805\n",
      "Epoch 87/100\n",
      "200/200 [==============================] - 0s 31us/sample - loss: 5.3574\n",
      "Epoch 88/100\n",
      "200/200 [==============================] - 0s 35us/sample - loss: 5.3261\n",
      "Epoch 89/100\n",
      "200/200 [==============================] - 0s 30us/sample - loss: 5.2978\n",
      "Epoch 90/100\n",
      "200/200 [==============================] - 0s 34us/sample - loss: 5.2836\n",
      "Epoch 91/100\n",
      "200/200 [==============================] - 0s 33us/sample - loss: 5.2671\n",
      "Epoch 92/100\n",
      "200/200 [==============================] - 0s 35us/sample - loss: 5.2377\n",
      "Epoch 93/100\n",
      "200/200 [==============================] - 0s 31us/sample - loss: 5.2143\n",
      "Epoch 94/100\n",
      "200/200 [==============================] - 0s 33us/sample - loss: 5.1864\n",
      "Epoch 95/100\n"
     ]
    },
    {
     "name": "stdout",
     "output_type": "stream",
     "text": [
      "200/200 [==============================] - 0s 34us/sample - loss: 5.1895\n",
      "Epoch 96/100\n",
      "200/200 [==============================] - 0s 31us/sample - loss: 5.1713\n",
      "Epoch 97/100\n",
      "200/200 [==============================] - 0s 34us/sample - loss: 5.1513\n",
      "Epoch 98/100\n",
      "200/200 [==============================] - 0s 31us/sample - loss: 5.1393\n",
      "Epoch 99/100\n",
      "200/200 [==============================] - 0s 35us/sample - loss: 5.1369\n",
      "Epoch 100/100\n",
      "200/200 [==============================] - 0s 31us/sample - loss: 5.1227\n"
     ]
    },
    {
     "data": {
      "text/plain": [
       "<tensorflow.python.keras.callbacks.History at 0x15c1eda10>"
      ]
     },
     "execution_count": 36,
     "metadata": {},
     "output_type": "execute_result"
    }
   ],
   "source": [
    "modle.fit(x, y, epochs=100)"
   ]
  },
  {
   "cell_type": "code",
   "execution_count": 38,
   "metadata": {},
   "outputs": [
    {
     "data": {
      "text/plain": [
       "array([[21.317993  ],\n",
       "       [11.147845  ],\n",
       "       [13.293716  ],\n",
       "       [17.659472  ],\n",
       "       [12.449711  ],\n",
       "       [15.524859  ],\n",
       "       [10.505942  ],\n",
       "       [11.153496  ],\n",
       "       [ 0.87018013],\n",
       "       [11.826473  ]], dtype=float32)"
      ]
     },
     "execution_count": 38,
     "metadata": {},
     "output_type": "execute_result"
    }
   ],
   "source": [
    "test = data.iloc[:10,1:-1]\n",
    "modle.predict(test)"
   ]
  }
 ],
 "metadata": {
  "kernelspec": {
   "display_name": "Python 3",
   "language": "python",
   "name": "python3"
  },
  "language_info": {
   "codemirror_mode": {
    "name": "ipython",
    "version": 3
   },
   "file_extension": ".py",
   "mimetype": "text/x-python",
   "name": "python",
   "nbconvert_exporter": "python",
   "pygments_lexer": "ipython3",
   "version": "3.7.5"
  }
 },
 "nbformat": 4,
 "nbformat_minor": 2
}
